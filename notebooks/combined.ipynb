{
 "cells": [
  {
   "cell_type": "code",
   "execution_count": 40,
   "metadata": {},
   "outputs": [],
   "source": [
    "import pandas as pd\n",
    "import psycopg2\n",
    "\n",
    "from datetime import datetime, date"
   ]
  },
  {
   "cell_type": "code",
   "execution_count": 19,
   "metadata": {},
   "outputs": [],
   "source": [
    "conn = psycopg2.connect(database='hackathon2020_dev', user=\"postgres\", password=\"Allo123!\", host=\"127.0.0.1\", port=\"5432\")\n",
    "\n",
    "df_per_state = pd.read_sql_query(\"SELECT * FROM public.state_temperatures\",con=conn,index_col=['id'])\n",
    "df_per_country = pd.read_sql_query(\"SELECT * FROM public.country_temperatures\",con=conn,index_col=['id'])\n",
    "df_tweet_statistics = pd.read_sql_query('SELECT * FROM public.trump_tweets_daily_stats',con=conn,index_col=['id'])\n",
    "\n",
    "df_per_country = df_per_country[df_per_country['averageTemperature'] != 'Nan']\n",
    "df_usa = df_per_country[df_per_country['country'] == 'United States']"
   ]
  },
  {
   "cell_type": "code",
   "execution_count": 20,
   "metadata": {},
   "outputs": [
    {
     "data": {
      "text/html": [
       "<div>\n",
       "<style scoped>\n",
       "    .dataframe tbody tr th:only-of-type {\n",
       "        vertical-align: middle;\n",
       "    }\n",
       "\n",
       "    .dataframe tbody tr th {\n",
       "        vertical-align: top;\n",
       "    }\n",
       "\n",
       "    .dataframe thead th {\n",
       "        text-align: right;\n",
       "    }\n",
       "</style>\n",
       "<table border=\"1\" class=\"dataframe\">\n",
       "  <thead>\n",
       "    <tr style=\"text-align: right;\">\n",
       "      <th></th>\n",
       "      <th>date</th>\n",
       "      <th>average_impact_level</th>\n",
       "      <th>tweet_count</th>\n",
       "      <th>created_at</th>\n",
       "      <th>updated_at</th>\n",
       "      <th>spx_open</th>\n",
       "      <th>spx_close</th>\n",
       "      <th>spx_high</th>\n",
       "      <th>spx_low</th>\n",
       "    </tr>\n",
       "    <tr>\n",
       "      <th>id</th>\n",
       "      <th></th>\n",
       "      <th></th>\n",
       "      <th></th>\n",
       "      <th></th>\n",
       "      <th></th>\n",
       "      <th></th>\n",
       "      <th></th>\n",
       "      <th></th>\n",
       "      <th></th>\n",
       "    </tr>\n",
       "  </thead>\n",
       "  <tbody>\n",
       "    <tr>\n",
       "      <th>77</th>\n",
       "      <td>2013-07-27</td>\n",
       "      <td>35.0</td>\n",
       "      <td>3</td>\n",
       "      <td>2021-12-21 08:07:15.710849</td>\n",
       "      <td>2021-12-21 08:07:15.710849</td>\n",
       "      <td>NaN</td>\n",
       "      <td>NaN</td>\n",
       "      <td>0.00</td>\n",
       "      <td>0.00</td>\n",
       "    </tr>\n",
       "    <tr>\n",
       "      <th>3</th>\n",
       "      <td>2013-06-05</td>\n",
       "      <td>35.0</td>\n",
       "      <td>29</td>\n",
       "      <td>2021-12-21 08:07:15.710849</td>\n",
       "      <td>2021-12-21 08:07:15.710849</td>\n",
       "      <td>48.19</td>\n",
       "      <td>47.51</td>\n",
       "      <td>1629.31</td>\n",
       "      <td>1607.09</td>\n",
       "    </tr>\n",
       "    <tr>\n",
       "      <th>9</th>\n",
       "      <td>2013-06-11</td>\n",
       "      <td>35.0</td>\n",
       "      <td>18</td>\n",
       "      <td>2021-12-21 08:07:15.710849</td>\n",
       "      <td>2021-12-21 08:07:15.710849</td>\n",
       "      <td>48.47</td>\n",
       "      <td>48.02</td>\n",
       "      <td>1640.13</td>\n",
       "      <td>1622.92</td>\n",
       "    </tr>\n",
       "    <tr>\n",
       "      <th>10</th>\n",
       "      <td>2013-06-15</td>\n",
       "      <td>35.0</td>\n",
       "      <td>12</td>\n",
       "      <td>2021-12-21 08:07:15.710849</td>\n",
       "      <td>2021-12-21 08:07:15.710849</td>\n",
       "      <td>NaN</td>\n",
       "      <td>NaN</td>\n",
       "      <td>0.00</td>\n",
       "      <td>0.00</td>\n",
       "    </tr>\n",
       "    <tr>\n",
       "      <th>11</th>\n",
       "      <td>2013-06-12</td>\n",
       "      <td>35.0</td>\n",
       "      <td>29</td>\n",
       "      <td>2021-12-21 08:07:15.710849</td>\n",
       "      <td>2021-12-21 08:07:15.710849</td>\n",
       "      <td>48.22</td>\n",
       "      <td>47.62</td>\n",
       "      <td>1637.71</td>\n",
       "      <td>1610.92</td>\n",
       "    </tr>\n",
       "  </tbody>\n",
       "</table>\n",
       "</div>"
      ],
      "text/plain": [
       "         date  average_impact_level  tweet_count                 created_at  \\\n",
       "id                                                                            \n",
       "77 2013-07-27                  35.0            3 2021-12-21 08:07:15.710849   \n",
       "3  2013-06-05                  35.0           29 2021-12-21 08:07:15.710849   \n",
       "9  2013-06-11                  35.0           18 2021-12-21 08:07:15.710849   \n",
       "10 2013-06-15                  35.0           12 2021-12-21 08:07:15.710849   \n",
       "11 2013-06-12                  35.0           29 2021-12-21 08:07:15.710849   \n",
       "\n",
       "                   updated_at  spx_open  spx_close  spx_high  spx_low  \n",
       "id                                                                     \n",
       "77 2021-12-21 08:07:15.710849       NaN        NaN      0.00     0.00  \n",
       "3  2021-12-21 08:07:15.710849     48.19      47.51   1629.31  1607.09  \n",
       "9  2021-12-21 08:07:15.710849     48.47      48.02   1640.13  1622.92  \n",
       "10 2021-12-21 08:07:15.710849       NaN        NaN      0.00     0.00  \n",
       "11 2021-12-21 08:07:15.710849     48.22      47.62   1637.71  1610.92  "
      ]
     },
     "execution_count": 20,
     "metadata": {},
     "output_type": "execute_result"
    }
   ],
   "source": [
    "df_tweet_statistics.head()"
   ]
  },
  {
   "cell_type": "code",
   "execution_count": 21,
   "metadata": {},
   "outputs": [
    {
     "data": {
      "text/plain": [
       "<AxesSubplot:xlabel='date'>"
      ]
     },
     "execution_count": 21,
     "metadata": {},
     "output_type": "execute_result"
    },
    {
     "data": {
      "image/png": "[encoded data removed]",
      "text/plain": [
       "<Figure size 432x288 with 1 Axes>"
      ]
     },
     "metadata": {
      "needs_background": "light"
     },
     "output_type": "display_data"
    }
   ],
   "source": [
    "df_tweet_statistics.plot(x='date', y='tweet_count')"
   ]
  },
  {
   "cell_type": "code",
   "execution_count": 51,
   "metadata": {},
   "outputs": [
    {
     "data": {
      "text/html": [
       "<div>\n",
       "<style scoped>\n",
       "    .dataframe tbody tr th:only-of-type {\n",
       "        vertical-align: middle;\n",
       "    }\n",
       "\n",
       "    .dataframe tbody tr th {\n",
       "        vertical-align: top;\n",
       "    }\n",
       "\n",
       "    .dataframe thead th {\n",
       "        text-align: right;\n",
       "    }\n",
       "</style>\n",
       "<table border=\"1\" class=\"dataframe\">\n",
       "  <thead>\n",
       "    <tr style=\"text-align: right;\">\n",
       "      <th></th>\n",
       "      <th>recordedAt</th>\n",
       "      <th>averageTemperature</th>\n",
       "      <th>averageTemperatureUncertainty</th>\n",
       "      <th>state</th>\n",
       "      <th>country</th>\n",
       "      <th>created_at</th>\n",
       "      <th>updated_at</th>\n",
       "    </tr>\n",
       "    <tr>\n",
       "      <th>id</th>\n",
       "      <th></th>\n",
       "      <th></th>\n",
       "      <th></th>\n",
       "      <th></th>\n",
       "      <th></th>\n",
       "      <th></th>\n",
       "      <th></th>\n",
       "    </tr>\n",
       "  </thead>\n",
       "  <tbody>\n",
       "    <tr>\n",
       "      <th>433887</th>\n",
       "      <td>1849-01-01</td>\n",
       "      <td>5.59</td>\n",
       "      <td>2.40</td>\n",
       "      <td>California</td>\n",
       "      <td>United States</td>\n",
       "      <td>2021-12-20 15:34:56.987241</td>\n",
       "      <td>2021-12-20 15:34:56.987241</td>\n",
       "    </tr>\n",
       "    <tr>\n",
       "      <th>433888</th>\n",
       "      <td>1849-02-01</td>\n",
       "      <td>6.94</td>\n",
       "      <td>2.04</td>\n",
       "      <td>California</td>\n",
       "      <td>United States</td>\n",
       "      <td>2021-12-20 15:34:56.987241</td>\n",
       "      <td>2021-12-20 15:34:56.987241</td>\n",
       "    </tr>\n",
       "    <tr>\n",
       "      <th>433889</th>\n",
       "      <td>1849-03-01</td>\n",
       "      <td>9.73</td>\n",
       "      <td>2.29</td>\n",
       "      <td>California</td>\n",
       "      <td>United States</td>\n",
       "      <td>2021-12-20 15:34:56.987241</td>\n",
       "      <td>2021-12-20 15:34:56.987241</td>\n",
       "    </tr>\n",
       "    <tr>\n",
       "      <th>433890</th>\n",
       "      <td>1849-04-01</td>\n",
       "      <td>12.29</td>\n",
       "      <td>2.86</td>\n",
       "      <td>California</td>\n",
       "      <td>United States</td>\n",
       "      <td>2021-12-20 15:34:56.987241</td>\n",
       "      <td>2021-12-20 15:34:56.987241</td>\n",
       "    </tr>\n",
       "    <tr>\n",
       "      <th>433891</th>\n",
       "      <td>1849-05-01</td>\n",
       "      <td>14.42</td>\n",
       "      <td>2.21</td>\n",
       "      <td>California</td>\n",
       "      <td>United States</td>\n",
       "      <td>2021-12-20 15:34:56.987241</td>\n",
       "      <td>2021-12-20 15:34:56.987241</td>\n",
       "    </tr>\n",
       "  </tbody>\n",
       "</table>\n",
       "</div>"
      ],
      "text/plain": [
       "        recordedAt  averageTemperature  averageTemperatureUncertainty  \\\n",
       "id                                                                      \n",
       "433887  1849-01-01                5.59                           2.40   \n",
       "433888  1849-02-01                6.94                           2.04   \n",
       "433889  1849-03-01                9.73                           2.29   \n",
       "433890  1849-04-01               12.29                           2.86   \n",
       "433891  1849-05-01               14.42                           2.21   \n",
       "\n",
       "             state        country                 created_at  \\\n",
       "id                                                             \n",
       "433887  California  United States 2021-12-20 15:34:56.987241   \n",
       "433888  California  United States 2021-12-20 15:34:56.987241   \n",
       "433889  California  United States 2021-12-20 15:34:56.987241   \n",
       "433890  California  United States 2021-12-20 15:34:56.987241   \n",
       "433891  California  United States 2021-12-20 15:34:56.987241   \n",
       "\n",
       "                       updated_at  \n",
       "id                                 \n",
       "433887 2021-12-20 15:34:56.987241  \n",
       "433888 2021-12-20 15:34:56.987241  \n",
       "433889 2021-12-20 15:34:56.987241  \n",
       "433890 2021-12-20 15:34:56.987241  \n",
       "433891 2021-12-20 15:34:56.987241  "
      ]
     },
     "execution_count": 51,
     "metadata": {},
     "output_type": "execute_result"
    }
   ],
   "source": [
    "df_us_state = df_per_state[df_per_state['country'] == 'United States']\n",
    "df_us_state = df_per_state[df_per_state['state'] == 'California']\n",
    "df_us_state.head()"
   ]
  },
  {
   "cell_type": "code",
   "execution_count": 53,
   "metadata": {},
   "outputs": [],
   "source": [
    "df_us_state_recent = df_us_state.loc[df_us_state['recordedAt'] > date(2010, 1, 1)]"
   ]
  },
  {
   "cell_type": "code",
   "execution_count": 42,
   "metadata": {},
   "outputs": [
    {
     "data": {
      "text/plain": [
       "<AxesSubplot:xlabel='recordedAt'>"
      ]
     },
     "execution_count": 42,
     "metadata": {},
     "output_type": "execute_result"
    },
    {
     "data": {
      "image/png": "[encoded data removed]",
      "text/plain": [
       "<Figure size 432x288 with 1 Axes>"
      ]
     },
     "metadata": {
      "needs_background": "light"
     },
     "output_type": "display_data"
    }
   ],
   "source": [
    "df_us_state_recent.plot(x='recordedAt', y='averageTemperature')"
   ]
  },
  {
   "cell_type": "code",
   "execution_count": null,
   "metadata": {},
   "outputs": [],
   "source": []
  }
 ],
 "metadata": {
  "kernelspec": {
   "display_name": "Python 3.6",
   "language": "python",
   "name": "py3.6"
  },
  "language_info": {
   "codemirror_mode": {
    "name": "ipython",
    "version": 3
   },
   "file_extension": ".py",
   "mimetype": "text/x-python",
   "name": "python",
   "nbconvert_exporter": "python",
   "pygments_lexer": "ipython3",
   "version": "3.6.9"
  }
 },
 "nbformat": 4,
 "nbformat_minor": 4
}
